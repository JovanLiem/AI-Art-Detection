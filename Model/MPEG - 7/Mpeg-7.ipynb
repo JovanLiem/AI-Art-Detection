{
  "metadata": {
    "kernelspec": {
      "language": "python",
      "display_name": "Python 3",
      "name": "python3"
    },
    "language_info": {
      "name": "python",
      "version": "3.10.14",
      "mimetype": "text/x-python",
      "codemirror_mode": {
        "name": "ipython",
        "version": 3
      },
      "pygments_lexer": "ipython3",
      "nbconvert_exporter": "python",
      "file_extension": ".py"
    },
    "kaggle": {
      "accelerator": "none",
      "dataSources": [
        {
          "sourceId": 9627658,
          "sourceType": "datasetVersion",
          "datasetId": 5876990
        },
        {
          "sourceId": 10201077,
          "sourceType": "datasetVersion",
          "datasetId": 6194152
        }
      ],
      "dockerImageVersionId": 30804,
      "isInternetEnabled": true,
      "language": "python",
      "sourceType": "notebook",
      "isGpuEnabled": false
    },
    "colab": {
      "provenance": []
    }
  },
  "nbformat_minor": 0,
  "nbformat": 4,
  "cells": [
    {
      "cell_type": "markdown",
      "source": [
        "# Requirements"
      ],
      "metadata": {
        "id": "g1_vIj_W5PD3"
      }
    },
    {
      "cell_type": "code",
      "source": [
        "!pip install keras\n",
        "!pip install keras_preprocessing\n",
        "!pip install tensorflow\n",
        "!pip install kaggle\n",
        "!pip install datasets"
      ],
      "metadata": {
        "trusted": true,
        "execution": {
          "iopub.status.busy": "2024-12-18T06:13:45.510197Z",
          "iopub.execute_input": "2024-12-18T06:13:45.511460Z",
          "iopub.status.idle": "2024-12-18T06:14:40.974906Z",
          "shell.execute_reply.started": "2024-12-18T06:13:45.511408Z",
          "shell.execute_reply": "2024-12-18T06:14:40.973360Z"
        },
        "id": "iD9nqhMI5PD3",
        "outputId": "1b115f3b-e9eb-42ea-ad7e-3b572f44f557"
      },
      "outputs": [
        {
          "name": "stdout",
          "text": "Requirement already satisfied: keras in /opt/conda/lib/python3.10/site-packages (3.3.3)\nRequirement already satisfied: absl-py in /opt/conda/lib/python3.10/site-packages (from keras) (1.4.0)\nRequirement already satisfied: numpy in /opt/conda/lib/python3.10/site-packages (from keras) (1.26.4)\nRequirement already satisfied: rich in /opt/conda/lib/python3.10/site-packages (from keras) (13.7.1)\nRequirement already satisfied: namex in /opt/conda/lib/python3.10/site-packages (from keras) (0.0.8)\nRequirement already satisfied: h5py in /opt/conda/lib/python3.10/site-packages (from keras) (3.11.0)\nRequirement already satisfied: optree in /opt/conda/lib/python3.10/site-packages (from keras) (0.11.0)\nRequirement already satisfied: ml-dtypes in /opt/conda/lib/python3.10/site-packages (from keras) (0.3.2)\nRequirement already satisfied: typing-extensions>=4.0.0 in /opt/conda/lib/python3.10/site-packages (from optree->keras) (4.12.2)\nRequirement already satisfied: markdown-it-py>=2.2.0 in /opt/conda/lib/python3.10/site-packages (from rich->keras) (3.0.0)\nRequirement already satisfied: pygments<3.0.0,>=2.13.0 in /opt/conda/lib/python3.10/site-packages (from rich->keras) (2.18.0)\nRequirement already satisfied: mdurl~=0.1 in /opt/conda/lib/python3.10/site-packages (from markdown-it-py>=2.2.0->rich->keras) (0.1.2)\nRequirement already satisfied: keras_preprocessing in /opt/conda/lib/python3.10/site-packages (1.1.2)\nRequirement already satisfied: numpy>=1.9.1 in /opt/conda/lib/python3.10/site-packages (from keras_preprocessing) (1.26.4)\nRequirement already satisfied: six>=1.9.0 in /opt/conda/lib/python3.10/site-packages (from keras_preprocessing) (1.16.0)\nRequirement already satisfied: tensorflow in /opt/conda/lib/python3.10/site-packages (2.16.1)\nRequirement already satisfied: absl-py>=1.0.0 in /opt/conda/lib/python3.10/site-packages (from tensorflow) (1.4.0)\nRequirement already satisfied: astunparse>=1.6.0 in /opt/conda/lib/python3.10/site-packages (from tensorflow) (1.6.3)\nRequirement already satisfied: flatbuffers>=23.5.26 in /opt/conda/lib/python3.10/site-packages (from tensorflow) (24.3.25)\nRequirement already satisfied: gast!=0.5.0,!=0.5.1,!=0.5.2,>=0.2.1 in /opt/conda/lib/python3.10/site-packages (from tensorflow) (0.5.4)\nRequirement already satisfied: google-pasta>=0.1.1 in /opt/conda/lib/python3.10/site-packages (from tensorflow) (0.2.0)\nRequirement already satisfied: h5py>=3.10.0 in /opt/conda/lib/python3.10/site-packages (from tensorflow) (3.11.0)\nRequirement already satisfied: libclang>=13.0.0 in /opt/conda/lib/python3.10/site-packages (from tensorflow) (18.1.1)\nRequirement already satisfied: ml-dtypes~=0.3.1 in /opt/conda/lib/python3.10/site-packages (from tensorflow) (0.3.2)\nRequirement already satisfied: opt-einsum>=2.3.2 in /opt/conda/lib/python3.10/site-packages (from tensorflow) (3.3.0)\nRequirement already satisfied: packaging in /opt/conda/lib/python3.10/site-packages (from tensorflow) (21.3)\nRequirement already satisfied: protobuf!=4.21.0,!=4.21.1,!=4.21.2,!=4.21.3,!=4.21.4,!=4.21.5,<5.0.0dev,>=3.20.3 in /opt/conda/lib/python3.10/site-packages (from tensorflow) (3.20.3)\nRequirement already satisfied: requests<3,>=2.21.0 in /opt/conda/lib/python3.10/site-packages (from tensorflow) (2.32.3)\nRequirement already satisfied: setuptools in /opt/conda/lib/python3.10/site-packages (from tensorflow) (70.0.0)\nRequirement already satisfied: six>=1.12.0 in /opt/conda/lib/python3.10/site-packages (from tensorflow) (1.16.0)\nRequirement already satisfied: termcolor>=1.1.0 in /opt/conda/lib/python3.10/site-packages (from tensorflow) (2.4.0)\nRequirement already satisfied: typing-extensions>=3.6.6 in /opt/conda/lib/python3.10/site-packages (from tensorflow) (4.12.2)\nRequirement already satisfied: wrapt>=1.11.0 in /opt/conda/lib/python3.10/site-packages (from tensorflow) (1.16.0)\nRequirement already satisfied: grpcio<2.0,>=1.24.3 in /opt/conda/lib/python3.10/site-packages (from tensorflow) (1.64.1)\nRequirement already satisfied: tensorboard<2.17,>=2.16 in /opt/conda/lib/python3.10/site-packages (from tensorflow) (2.16.2)\nRequirement already satisfied: keras>=3.0.0 in /opt/conda/lib/python3.10/site-packages (from tensorflow) (3.3.3)\nRequirement already satisfied: tensorflow-io-gcs-filesystem>=0.23.1 in /opt/conda/lib/python3.10/site-packages (from tensorflow) (0.37.0)\nRequirement already satisfied: numpy<2.0.0,>=1.23.5 in /opt/conda/lib/python3.10/site-packages (from tensorflow) (1.26.4)\nRequirement already satisfied: wheel<1.0,>=0.23.0 in /opt/conda/lib/python3.10/site-packages (from astunparse>=1.6.0->tensorflow) (0.43.0)\nRequirement already satisfied: rich in /opt/conda/lib/python3.10/site-packages (from keras>=3.0.0->tensorflow) (13.7.1)\nRequirement already satisfied: namex in /opt/conda/lib/python3.10/site-packages (from keras>=3.0.0->tensorflow) (0.0.8)\nRequirement already satisfied: optree in /opt/conda/lib/python3.10/site-packages (from keras>=3.0.0->tensorflow) (0.11.0)\nRequirement already satisfied: charset-normalizer<4,>=2 in /opt/conda/lib/python3.10/site-packages (from requests<3,>=2.21.0->tensorflow) (3.3.2)\nRequirement already satisfied: idna<4,>=2.5 in /opt/conda/lib/python3.10/site-packages (from requests<3,>=2.21.0->tensorflow) (3.7)\nRequirement already satisfied: urllib3<3,>=1.21.1 in /opt/conda/lib/python3.10/site-packages (from requests<3,>=2.21.0->tensorflow) (1.26.18)\nRequirement already satisfied: certifi>=2017.4.17 in /opt/conda/lib/python3.10/site-packages (from requests<3,>=2.21.0->tensorflow) (2024.6.2)\nRequirement already satisfied: markdown>=2.6.8 in /opt/conda/lib/python3.10/site-packages (from tensorboard<2.17,>=2.16->tensorflow) (3.6)\nRequirement already satisfied: tensorboard-data-server<0.8.0,>=0.7.0 in /opt/conda/lib/python3.10/site-packages (from tensorboard<2.17,>=2.16->tensorflow) (0.7.2)\nRequirement already satisfied: werkzeug>=1.0.1 in /opt/conda/lib/python3.10/site-packages (from tensorboard<2.17,>=2.16->tensorflow) (3.1.3)\nRequirement already satisfied: pyparsing!=3.0.5,>=2.0.2 in /opt/conda/lib/python3.10/site-packages (from packaging->tensorflow) (3.1.2)\nRequirement already satisfied: MarkupSafe>=2.1.1 in /opt/conda/lib/python3.10/site-packages (from werkzeug>=1.0.1->tensorboard<2.17,>=2.16->tensorflow) (2.1.5)\nRequirement already satisfied: markdown-it-py>=2.2.0 in /opt/conda/lib/python3.10/site-packages (from rich->keras>=3.0.0->tensorflow) (3.0.0)\nRequirement already satisfied: pygments<3.0.0,>=2.13.0 in /opt/conda/lib/python3.10/site-packages (from rich->keras>=3.0.0->tensorflow) (2.18.0)\nRequirement already satisfied: mdurl~=0.1 in /opt/conda/lib/python3.10/site-packages (from markdown-it-py>=2.2.0->rich->keras>=3.0.0->tensorflow) (0.1.2)\nRequirement already satisfied: kaggle in /opt/conda/lib/python3.10/site-packages (1.6.17)\nRequirement already satisfied: six>=1.10 in /opt/conda/lib/python3.10/site-packages (from kaggle) (1.16.0)\nRequirement already satisfied: certifi>=2023.7.22 in /opt/conda/lib/python3.10/site-packages (from kaggle) (2024.6.2)\nRequirement already satisfied: python-dateutil in /opt/conda/lib/python3.10/site-packages (from kaggle) (2.9.0.post0)\nRequirement already satisfied: requests in /opt/conda/lib/python3.10/site-packages (from kaggle) (2.32.3)\nRequirement already satisfied: tqdm in /opt/conda/lib/python3.10/site-packages (from kaggle) (4.66.4)\nRequirement already satisfied: python-slugify in /opt/conda/lib/python3.10/site-packages (from kaggle) (8.0.4)\nRequirement already satisfied: urllib3 in /opt/conda/lib/python3.10/site-packages (from kaggle) (1.26.18)\nRequirement already satisfied: bleach in /opt/conda/lib/python3.10/site-packages (from kaggle) (6.1.0)\nRequirement already satisfied: webencodings in /opt/conda/lib/python3.10/site-packages (from bleach->kaggle) (0.5.1)\nRequirement already satisfied: text-unidecode>=1.3 in /opt/conda/lib/python3.10/site-packages (from python-slugify->kaggle) (1.3)\nRequirement already satisfied: charset-normalizer<4,>=2 in /opt/conda/lib/python3.10/site-packages (from requests->kaggle) (3.3.2)\nRequirement already satisfied: idna<4,>=2.5 in /opt/conda/lib/python3.10/site-packages (from requests->kaggle) (3.7)\nRequirement already satisfied: datasets in /opt/conda/lib/python3.10/site-packages (3.1.0)\nRequirement already satisfied: filelock in /opt/conda/lib/python3.10/site-packages (from datasets) (3.15.1)\nRequirement already satisfied: numpy>=1.17 in /opt/conda/lib/python3.10/site-packages (from datasets) (1.26.4)\nRequirement already satisfied: pyarrow>=15.0.0 in /opt/conda/lib/python3.10/site-packages (from datasets) (18.1.0)\nRequirement already satisfied: dill<0.3.9,>=0.3.0 in /opt/conda/lib/python3.10/site-packages (from datasets) (0.3.8)\nRequirement already satisfied: pandas in /opt/conda/lib/python3.10/site-packages (from datasets) (2.2.3)\nRequirement already satisfied: requests>=2.32.2 in /opt/conda/lib/python3.10/site-packages (from datasets) (2.32.3)\nRequirement already satisfied: tqdm>=4.66.3 in /opt/conda/lib/python3.10/site-packages (from datasets) (4.66.4)\nRequirement already satisfied: xxhash in /opt/conda/lib/python3.10/site-packages (from datasets) (3.4.1)\nRequirement already satisfied: multiprocess<0.70.17 in /opt/conda/lib/python3.10/site-packages (from datasets) (0.70.16)\nRequirement already satisfied: fsspec<=2024.9.0,>=2023.1.0 in /opt/conda/lib/python3.10/site-packages (from fsspec[http]<=2024.9.0,>=2023.1.0->datasets) (2024.9.0)\nRequirement already satisfied: aiohttp in /opt/conda/lib/python3.10/site-packages (from datasets) (3.9.5)\nRequirement already satisfied: huggingface-hub>=0.23.0 in /opt/conda/lib/python3.10/site-packages (from datasets) (0.26.2)\nRequirement already satisfied: packaging in /opt/conda/lib/python3.10/site-packages (from datasets) (21.3)\nRequirement already satisfied: pyyaml>=5.1 in /opt/conda/lib/python3.10/site-packages (from datasets) (6.0.2)\nRequirement already satisfied: aiosignal>=1.1.2 in /opt/conda/lib/python3.10/site-packages (from aiohttp->datasets) (1.3.1)\nRequirement already satisfied: attrs>=17.3.0 in /opt/conda/lib/python3.10/site-packages (from aiohttp->datasets) (23.2.0)\nRequirement already satisfied: frozenlist>=1.1.1 in /opt/conda/lib/python3.10/site-packages (from aiohttp->datasets) (1.4.1)\nRequirement already satisfied: multidict<7.0,>=4.5 in /opt/conda/lib/python3.10/site-packages (from aiohttp->datasets) (6.0.5)\nRequirement already satisfied: yarl<2.0,>=1.0 in /opt/conda/lib/python3.10/site-packages (from aiohttp->datasets) (1.9.4)\nRequirement already satisfied: async-timeout<5.0,>=4.0 in /opt/conda/lib/python3.10/site-packages (from aiohttp->datasets) (4.0.3)\nRequirement already satisfied: typing-extensions>=3.7.4.3 in /opt/conda/lib/python3.10/site-packages (from huggingface-hub>=0.23.0->datasets) (4.12.2)\nRequirement already satisfied: pyparsing!=3.0.5,>=2.0.2 in /opt/conda/lib/python3.10/site-packages (from packaging->datasets) (3.1.2)\nRequirement already satisfied: charset-normalizer<4,>=2 in /opt/conda/lib/python3.10/site-packages (from requests>=2.32.2->datasets) (3.3.2)\nRequirement already satisfied: idna<4,>=2.5 in /opt/conda/lib/python3.10/site-packages (from requests>=2.32.2->datasets) (3.7)\nRequirement already satisfied: urllib3<3,>=1.21.1 in /opt/conda/lib/python3.10/site-packages (from requests>=2.32.2->datasets) (1.26.18)\nRequirement already satisfied: certifi>=2017.4.17 in /opt/conda/lib/python3.10/site-packages (from requests>=2.32.2->datasets) (2024.6.2)\nRequirement already satisfied: python-dateutil>=2.8.2 in /opt/conda/lib/python3.10/site-packages (from pandas->datasets) (2.9.0.post0)\nRequirement already satisfied: pytz>=2020.1 in /opt/conda/lib/python3.10/site-packages (from pandas->datasets) (2024.1)\nRequirement already satisfied: tzdata>=2022.7 in /opt/conda/lib/python3.10/site-packages (from pandas->datasets) (2024.1)\nRequirement already satisfied: six>=1.5 in /opt/conda/lib/python3.10/site-packages (from python-dateutil>=2.8.2->pandas->datasets) (1.16.0)\n",
          "output_type": "stream"
        }
      ],
      "execution_count": null
    },
    {
      "cell_type": "markdown",
      "source": [
        "# Libraries"
      ],
      "metadata": {
        "id": "I0AsdVHG5PD4"
      }
    },
    {
      "cell_type": "code",
      "source": [
        "# Data Science Libraries\n",
        "import numpy as np\n",
        "import pandas as pd\n",
        "import matplotlib.pyplot as plt\n",
        "import tensorflow as tf\n",
        "from sklearn.model_selection import train_test_split\n",
        "from datasets import Dataset\n",
        "\n",
        "\n",
        "# Tensorflow Libraries\n",
        "from tensorflow import keras\n",
        "from tensorflow.keras import layers, models, regularizers\n",
        "from keras_preprocessing.image import ImageDataGenerator\n",
        "from keras.layers import Dense, Dropout, GlobalAveragePooling2D, Input\n",
        "from tensorflow.keras.callbacks import Callback, EarlyStopping, ModelCheckpoint, ReduceLROnPlateau\n",
        "from tensorflow.keras.optimizers import Adam\n",
        "from tensorflow.keras.applications import MobileNetV2\n",
        "from tensorflow.keras import Model\n",
        "\n",
        "# Torch Libraries\n",
        "import torch\n",
        "import torch.nn as nn\n",
        "from torchvision import datasets, transforms\n",
        "from torch.utils.data import DataLoader, random_split, Subset\n",
        "\n",
        "# System Libraries\n",
        "from pathlib import Path\n",
        "import os\n",
        "import os.path\n",
        "import random\n",
        "\n",
        "# Visualization Libraries\n",
        "import matplotlib.cm as cm\n",
        "import cv2\n",
        "import seaborn as sns\n",
        "from PIL import Image, ImageChops, ImageEnhance\n",
        "\n",
        "# Metrics\n",
        "from sklearn.model_selection import train_test_split\n",
        "from sklearn.metrics import classification_report, confusion_matrix\n",
        "import itertools\n",
        "\n",
        "# Model\n",
        "from tensorflow.keras.applications import MobileNetV2,ResNet50, ResNet50V2\n",
        "from transformers import ViTFeatureExtractor, ViTForImageClassification, Trainer, TrainingArguments\n",
        "\n",
        "# Extra\n",
        "import zipfile\n",
        "from termcolor import colored\n",
        "#from google.colab import drive\n",
        "import cv2\n",
        "from skimage.feature import canny\n",
        "from collections import defaultdict, Counter"
      ],
      "metadata": {
        "trusted": true,
        "execution": {
          "iopub.status.busy": "2024-12-18T06:14:40.977535Z",
          "iopub.execute_input": "2024-12-18T06:14:40.977985Z",
          "iopub.status.idle": "2024-12-18T06:14:40.992484Z",
          "shell.execute_reply.started": "2024-12-18T06:14:40.977945Z",
          "shell.execute_reply": "2024-12-18T06:14:40.990945Z"
        },
        "id": "p6COejSu5PD4"
      },
      "outputs": [],
      "execution_count": null
    },
    {
      "cell_type": "markdown",
      "source": [
        "# Data"
      ],
      "metadata": {
        "id": "R1alucR15PD5"
      }
    },
    {
      "cell_type": "markdown",
      "source": [
        "## Directory"
      ],
      "metadata": {
        "id": "2tNsd3fR5PD5"
      }
    },
    {
      "cell_type": "code",
      "source": [
        "PATH = '/kaggle/input/deepfakesss/similar'\n",
        "PATH_styletransfer = '/kaggle/input/deepfakesss/similar/style_transfer'\n",
        "PATH_inpainting = '/kaggle/input/deepfakesss/similar/inpainting'\n",
        "PATH_old = '/kaggle/input/dataset'\n",
        "images = []\n",
        "class_list = []\n",
        "labels_class = ['Original', 'AI Generated']\n",
        "labels_class"
      ],
      "metadata": {
        "trusted": true,
        "execution": {
          "iopub.status.busy": "2024-12-18T06:14:40.994349Z",
          "iopub.execute_input": "2024-12-18T06:14:40.995342Z",
          "iopub.status.idle": "2024-12-18T06:14:41.014976Z",
          "shell.execute_reply.started": "2024-12-18T06:14:40.995289Z",
          "shell.execute_reply": "2024-12-18T06:14:41.013774Z"
        },
        "id": "tNubbRmb5PD5",
        "outputId": "e690366f-3716-4680-b979-5b984b5b66d9"
      },
      "outputs": [
        {
          "execution_count": 28,
          "output_type": "execute_result",
          "data": {
            "text/plain": "['Original', 'AI Generated']"
          },
          "metadata": {}
        }
      ],
      "execution_count": null
    },
    {
      "cell_type": "markdown",
      "source": [
        "## Creating Dataframe"
      ],
      "metadata": {
        "id": "xN0DvNn05PD6"
      }
    },
    {
      "cell_type": "code",
      "source": [
        "folder_path = PATH_inpainting\n",
        "max_images_per_class = 20\n",
        "\n",
        "# Initialize list and counters\n",
        "image_data = []\n",
        "class_0_count = 0\n",
        "class_1_count = 0\n",
        "\n",
        "# Iterate through class folders\n",
        "for class_name in os.listdir(folder_path):\n",
        "    class_path = os.path.join(folder_path, class_name)\n",
        "    if not os.path.isdir(class_path):\n",
        "        continue\n",
        "\n",
        "    for file in os.listdir(class_path):\n",
        "        # Stop if both class limits are reached\n",
        "        if class_0_count >= max_images_per_class and class_1_count >= max_images_per_class:\n",
        "            break\n",
        "\n",
        "        file_path = os.path.join(class_path, file)\n",
        "\n",
        "        # Append file paths and labels\n",
        "        if file == 'original.png' and class_0_count < max_images_per_class:\n",
        "            image_data.append((file_path, 0))\n",
        "            class_0_count += 1\n",
        "        elif file == 'inpainting.png' and class_1_count < max_images_per_class:\n",
        "            image_data.append((file_path, 1))\n",
        "            class_1_count += 1\n",
        "\n",
        "# Create DataFrame from collected data\n",
        "dataset = pd.DataFrame(image_data, columns=['file_path', 'label'])\n",
        "\n",
        "# Display the DataFrame\n",
        "dataset"
      ],
      "metadata": {
        "trusted": true,
        "execution": {
          "iopub.status.busy": "2024-12-18T06:14:41.018096Z",
          "iopub.execute_input": "2024-12-18T06:14:41.018587Z",
          "iopub.status.idle": "2024-12-18T06:14:48.655611Z",
          "shell.execute_reply.started": "2024-12-18T06:14:41.018527Z",
          "shell.execute_reply": "2024-12-18T06:14:48.654399Z"
        },
        "id": "4VOkBRdB5PD6",
        "outputId": "2752b875-7243-404e-e905-1b9a7f704e97"
      },
      "outputs": [
        {
          "execution_count": 29,
          "output_type": "execute_result",
          "data": {
            "text/plain": "                                            file_path  label\n0   /kaggle/input/deepfakesss/similar/inpainting/1...      0\n1   /kaggle/input/deepfakesss/similar/inpainting/1...      1\n2   /kaggle/input/deepfakesss/similar/inpainting/2...      0\n3   /kaggle/input/deepfakesss/similar/inpainting/2...      1\n4   /kaggle/input/deepfakesss/similar/inpainting/4...      0\n5   /kaggle/input/deepfakesss/similar/inpainting/4...      1\n6   /kaggle/input/deepfakesss/similar/inpainting/1...      0\n7   /kaggle/input/deepfakesss/similar/inpainting/1...      1\n8   /kaggle/input/deepfakesss/similar/inpainting/1...      0\n9   /kaggle/input/deepfakesss/similar/inpainting/1...      1\n10  /kaggle/input/deepfakesss/similar/inpainting/1...      0\n11  /kaggle/input/deepfakesss/similar/inpainting/1...      1\n12  /kaggle/input/deepfakesss/similar/inpainting/1...      0\n13  /kaggle/input/deepfakesss/similar/inpainting/1...      1\n14  /kaggle/input/deepfakesss/similar/inpainting/1...      0\n15  /kaggle/input/deepfakesss/similar/inpainting/1...      1\n16  /kaggle/input/deepfakesss/similar/inpainting/5...      0\n17  /kaggle/input/deepfakesss/similar/inpainting/5...      1\n18  /kaggle/input/deepfakesss/similar/inpainting/1...      0\n19  /kaggle/input/deepfakesss/similar/inpainting/1...      1\n20  /kaggle/input/deepfakesss/similar/inpainting/2...      0\n21  /kaggle/input/deepfakesss/similar/inpainting/2...      1\n22  /kaggle/input/deepfakesss/similar/inpainting/2...      0\n23  /kaggle/input/deepfakesss/similar/inpainting/2...      1\n24  /kaggle/input/deepfakesss/similar/inpainting/1...      0\n25  /kaggle/input/deepfakesss/similar/inpainting/1...      1\n26  /kaggle/input/deepfakesss/similar/inpainting/3...      0\n27  /kaggle/input/deepfakesss/similar/inpainting/3...      1\n28  /kaggle/input/deepfakesss/similar/inpainting/1...      0\n29  /kaggle/input/deepfakesss/similar/inpainting/1...      1\n30  /kaggle/input/deepfakesss/similar/inpainting/2...      0\n31  /kaggle/input/deepfakesss/similar/inpainting/2...      1\n32  /kaggle/input/deepfakesss/similar/inpainting/1...      0\n33  /kaggle/input/deepfakesss/similar/inpainting/1...      1\n34  /kaggle/input/deepfakesss/similar/inpainting/1...      0\n35  /kaggle/input/deepfakesss/similar/inpainting/1...      1\n36  /kaggle/input/deepfakesss/similar/inpainting/6...      0\n37  /kaggle/input/deepfakesss/similar/inpainting/6...      1\n38  /kaggle/input/deepfakesss/similar/inpainting/1...      0\n39  /kaggle/input/deepfakesss/similar/inpainting/1...      1",
            "text/html": "<div>\n<style scoped>\n    .dataframe tbody tr th:only-of-type {\n        vertical-align: middle;\n    }\n\n    .dataframe tbody tr th {\n        vertical-align: top;\n    }\n\n    .dataframe thead th {\n        text-align: right;\n    }\n</style>\n<table border=\"1\" class=\"dataframe\">\n  <thead>\n    <tr style=\"text-align: right;\">\n      <th></th>\n      <th>file_path</th>\n      <th>label</th>\n    </tr>\n  </thead>\n  <tbody>\n    <tr>\n      <th>0</th>\n      <td>/kaggle/input/deepfakesss/similar/inpainting/1...</td>\n      <td>0</td>\n    </tr>\n    <tr>\n      <th>1</th>\n      <td>/kaggle/input/deepfakesss/similar/inpainting/1...</td>\n      <td>1</td>\n    </tr>\n    <tr>\n      <th>2</th>\n      <td>/kaggle/input/deepfakesss/similar/inpainting/2...</td>\n      <td>0</td>\n    </tr>\n    <tr>\n      <th>3</th>\n      <td>/kaggle/input/deepfakesss/similar/inpainting/2...</td>\n      <td>1</td>\n    </tr>\n    <tr>\n      <th>4</th>\n      <td>/kaggle/input/deepfakesss/similar/inpainting/4...</td>\n      <td>0</td>\n    </tr>\n    <tr>\n      <th>5</th>\n      <td>/kaggle/input/deepfakesss/similar/inpainting/4...</td>\n      <td>1</td>\n    </tr>\n    <tr>\n      <th>6</th>\n      <td>/kaggle/input/deepfakesss/similar/inpainting/1...</td>\n      <td>0</td>\n    </tr>\n    <tr>\n      <th>7</th>\n      <td>/kaggle/input/deepfakesss/similar/inpainting/1...</td>\n      <td>1</td>\n    </tr>\n    <tr>\n      <th>8</th>\n      <td>/kaggle/input/deepfakesss/similar/inpainting/1...</td>\n      <td>0</td>\n    </tr>\n    <tr>\n      <th>9</th>\n      <td>/kaggle/input/deepfakesss/similar/inpainting/1...</td>\n      <td>1</td>\n    </tr>\n    <tr>\n      <th>10</th>\n      <td>/kaggle/input/deepfakesss/similar/inpainting/1...</td>\n      <td>0</td>\n    </tr>\n    <tr>\n      <th>11</th>\n      <td>/kaggle/input/deepfakesss/similar/inpainting/1...</td>\n      <td>1</td>\n    </tr>\n    <tr>\n      <th>12</th>\n      <td>/kaggle/input/deepfakesss/similar/inpainting/1...</td>\n      <td>0</td>\n    </tr>\n    <tr>\n      <th>13</th>\n      <td>/kaggle/input/deepfakesss/similar/inpainting/1...</td>\n      <td>1</td>\n    </tr>\n    <tr>\n      <th>14</th>\n      <td>/kaggle/input/deepfakesss/similar/inpainting/1...</td>\n      <td>0</td>\n    </tr>\n    <tr>\n      <th>15</th>\n      <td>/kaggle/input/deepfakesss/similar/inpainting/1...</td>\n      <td>1</td>\n    </tr>\n    <tr>\n      <th>16</th>\n      <td>/kaggle/input/deepfakesss/similar/inpainting/5...</td>\n      <td>0</td>\n    </tr>\n    <tr>\n      <th>17</th>\n      <td>/kaggle/input/deepfakesss/similar/inpainting/5...</td>\n      <td>1</td>\n    </tr>\n    <tr>\n      <th>18</th>\n      <td>/kaggle/input/deepfakesss/similar/inpainting/1...</td>\n      <td>0</td>\n    </tr>\n    <tr>\n      <th>19</th>\n      <td>/kaggle/input/deepfakesss/similar/inpainting/1...</td>\n      <td>1</td>\n    </tr>\n    <tr>\n      <th>20</th>\n      <td>/kaggle/input/deepfakesss/similar/inpainting/2...</td>\n      <td>0</td>\n    </tr>\n    <tr>\n      <th>21</th>\n      <td>/kaggle/input/deepfakesss/similar/inpainting/2...</td>\n      <td>1</td>\n    </tr>\n    <tr>\n      <th>22</th>\n      <td>/kaggle/input/deepfakesss/similar/inpainting/2...</td>\n      <td>0</td>\n    </tr>\n    <tr>\n      <th>23</th>\n      <td>/kaggle/input/deepfakesss/similar/inpainting/2...</td>\n      <td>1</td>\n    </tr>\n    <tr>\n      <th>24</th>\n      <td>/kaggle/input/deepfakesss/similar/inpainting/1...</td>\n      <td>0</td>\n    </tr>\n    <tr>\n      <th>25</th>\n      <td>/kaggle/input/deepfakesss/similar/inpainting/1...</td>\n      <td>1</td>\n    </tr>\n    <tr>\n      <th>26</th>\n      <td>/kaggle/input/deepfakesss/similar/inpainting/3...</td>\n      <td>0</td>\n    </tr>\n    <tr>\n      <th>27</th>\n      <td>/kaggle/input/deepfakesss/similar/inpainting/3...</td>\n      <td>1</td>\n    </tr>\n    <tr>\n      <th>28</th>\n      <td>/kaggle/input/deepfakesss/similar/inpainting/1...</td>\n      <td>0</td>\n    </tr>\n    <tr>\n      <th>29</th>\n      <td>/kaggle/input/deepfakesss/similar/inpainting/1...</td>\n      <td>1</td>\n    </tr>\n    <tr>\n      <th>30</th>\n      <td>/kaggle/input/deepfakesss/similar/inpainting/2...</td>\n      <td>0</td>\n    </tr>\n    <tr>\n      <th>31</th>\n      <td>/kaggle/input/deepfakesss/similar/inpainting/2...</td>\n      <td>1</td>\n    </tr>\n    <tr>\n      <th>32</th>\n      <td>/kaggle/input/deepfakesss/similar/inpainting/1...</td>\n      <td>0</td>\n    </tr>\n    <tr>\n      <th>33</th>\n      <td>/kaggle/input/deepfakesss/similar/inpainting/1...</td>\n      <td>1</td>\n    </tr>\n    <tr>\n      <th>34</th>\n      <td>/kaggle/input/deepfakesss/similar/inpainting/1...</td>\n      <td>0</td>\n    </tr>\n    <tr>\n      <th>35</th>\n      <td>/kaggle/input/deepfakesss/similar/inpainting/1...</td>\n      <td>1</td>\n    </tr>\n    <tr>\n      <th>36</th>\n      <td>/kaggle/input/deepfakesss/similar/inpainting/6...</td>\n      <td>0</td>\n    </tr>\n    <tr>\n      <th>37</th>\n      <td>/kaggle/input/deepfakesss/similar/inpainting/6...</td>\n      <td>1</td>\n    </tr>\n    <tr>\n      <th>38</th>\n      <td>/kaggle/input/deepfakesss/similar/inpainting/1...</td>\n      <td>0</td>\n    </tr>\n    <tr>\n      <th>39</th>\n      <td>/kaggle/input/deepfakesss/similar/inpainting/1...</td>\n      <td>1</td>\n    </tr>\n  </tbody>\n</table>\n</div>"
          },
          "metadata": {}
        }
      ],
      "execution_count": null
    },
    {
      "cell_type": "code",
      "source": [
        "class_0_count = 0\n",
        "class_1_count = 0\n",
        "max_images_per_class = 10\n",
        "new_data = []  # List to store new data for appending\n",
        "\n",
        "# Iterate through each class in the style_transfer folder\n",
        "for class_name in os.listdir(PATH_styletransfer):\n",
        "    class_path = os.path.join(PATH_styletransfer, class_name)\n",
        "\n",
        "    if not os.path.isdir(class_path):\n",
        "        continue\n",
        "\n",
        "    for file in os.listdir(class_path):\n",
        "        if class_0_count >= max_images_per_class and class_1_count >= max_images_per_class:\n",
        "            break\n",
        "\n",
        "        file_path = os.path.join(class_path, file)\n",
        "\n",
        "        # Append file paths and labels to new_data\n",
        "        if file.endswith(\"original.png\") and class_0_count < max_images_per_class:\n",
        "            new_data.append((file_path, 0))\n",
        "            class_0_count += 1\n",
        "        elif file.endswith(\"generated.png\") and class_1_count < max_images_per_class:\n",
        "            new_data.append((file_path, 1))\n",
        "            class_1_count += 1\n",
        "\n",
        "    # Reset counts for the next class\n",
        "    class_0_count = 0\n",
        "    class_1_count = 0\n",
        "\n",
        "# Convert new_data to a DataFrame\n",
        "new_df = pd.DataFrame(new_data, columns=['file_path', 'label'])\n",
        "\n",
        "# Append to the existing DataFrame\n",
        "if 'dataset' in locals():\n",
        "    dataset = pd.concat([dataset, new_df], ignore_index=True)\n",
        "else:\n",
        "    dataset = new_df\n",
        "\n",
        "dataset"
      ],
      "metadata": {
        "trusted": true,
        "execution": {
          "iopub.status.busy": "2024-12-18T06:14:48.657247Z",
          "iopub.execute_input": "2024-12-18T06:14:48.657727Z",
          "iopub.status.idle": "2024-12-18T06:14:48.718295Z",
          "shell.execute_reply.started": "2024-12-18T06:14:48.657677Z",
          "shell.execute_reply": "2024-12-18T06:14:48.716884Z"
        },
        "id": "oMOKaeQy5PD6",
        "outputId": "312998e1-eb85-4203-9dd2-850a3d1cf2cd"
      },
      "outputs": [
        {
          "execution_count": 30,
          "output_type": "execute_result",
          "data": {
            "text/plain": "                                             file_path  label\n0    /kaggle/input/deepfakesss/similar/inpainting/1...      0\n1    /kaggle/input/deepfakesss/similar/inpainting/1...      1\n2    /kaggle/input/deepfakesss/similar/inpainting/2...      0\n3    /kaggle/input/deepfakesss/similar/inpainting/2...      1\n4    /kaggle/input/deepfakesss/similar/inpainting/4...      0\n..                                                 ...    ...\n575  /kaggle/input/deepfakesss/similar/style_transf...      1\n576  /kaggle/input/deepfakesss/similar/style_transf...      0\n577  /kaggle/input/deepfakesss/similar/style_transf...      0\n578  /kaggle/input/deepfakesss/similar/style_transf...      0\n579  /kaggle/input/deepfakesss/similar/style_transf...      0\n\n[580 rows x 2 columns]",
            "text/html": "<div>\n<style scoped>\n    .dataframe tbody tr th:only-of-type {\n        vertical-align: middle;\n    }\n\n    .dataframe tbody tr th {\n        vertical-align: top;\n    }\n\n    .dataframe thead th {\n        text-align: right;\n    }\n</style>\n<table border=\"1\" class=\"dataframe\">\n  <thead>\n    <tr style=\"text-align: right;\">\n      <th></th>\n      <th>file_path</th>\n      <th>label</th>\n    </tr>\n  </thead>\n  <tbody>\n    <tr>\n      <th>0</th>\n      <td>/kaggle/input/deepfakesss/similar/inpainting/1...</td>\n      <td>0</td>\n    </tr>\n    <tr>\n      <th>1</th>\n      <td>/kaggle/input/deepfakesss/similar/inpainting/1...</td>\n      <td>1</td>\n    </tr>\n    <tr>\n      <th>2</th>\n      <td>/kaggle/input/deepfakesss/similar/inpainting/2...</td>\n      <td>0</td>\n    </tr>\n    <tr>\n      <th>3</th>\n      <td>/kaggle/input/deepfakesss/similar/inpainting/2...</td>\n      <td>1</td>\n    </tr>\n    <tr>\n      <th>4</th>\n      <td>/kaggle/input/deepfakesss/similar/inpainting/4...</td>\n      <td>0</td>\n    </tr>\n    <tr>\n      <th>...</th>\n      <td>...</td>\n      <td>...</td>\n    </tr>\n    <tr>\n      <th>575</th>\n      <td>/kaggle/input/deepfakesss/similar/style_transf...</td>\n      <td>1</td>\n    </tr>\n    <tr>\n      <th>576</th>\n      <td>/kaggle/input/deepfakesss/similar/style_transf...</td>\n      <td>0</td>\n    </tr>\n    <tr>\n      <th>577</th>\n      <td>/kaggle/input/deepfakesss/similar/style_transf...</td>\n      <td>0</td>\n    </tr>\n    <tr>\n      <th>578</th>\n      <td>/kaggle/input/deepfakesss/similar/style_transf...</td>\n      <td>0</td>\n    </tr>\n    <tr>\n      <th>579</th>\n      <td>/kaggle/input/deepfakesss/similar/style_transf...</td>\n      <td>0</td>\n    </tr>\n  </tbody>\n</table>\n<p>580 rows × 2 columns</p>\n</div>"
          },
          "metadata": {}
        }
      ],
      "execution_count": null
    },
    {
      "cell_type": "code",
      "source": [
        "max_images_per_class = 20\n",
        "\n",
        "all_images = []\n",
        "\n",
        "# Iterate through all subdirectories in the folder\n",
        "for class_name in os.listdir(PATH_old):\n",
        "    class_path = os.path.join(PATH_old, class_name)\n",
        "\n",
        "    if os.path.isdir(class_path):\n",
        "        # Assign label 1 if \"AI\" is in the folder name, otherwise 0\n",
        "        label = 1 if \"AI\" in class_name else 0\n",
        "\n",
        "        # Collect file paths and labels\n",
        "        class_images = [(os.path.join(class_path, file_name), label) for file_name in os.listdir(class_path)]\n",
        "\n",
        "        # Limit the number of images per class\n",
        "        all_images.extend(class_images[:max_images_per_class])\n",
        "\n",
        "# Convert the collected data into a DataFrame\n",
        "new_df = pd.DataFrame(all_images, columns=['file_path', 'label'])\n",
        "\n",
        "# Combine with the existing dataset if it exists\n",
        "if 'dataset' in locals() and isinstance(dataset, pd.DataFrame):\n",
        "    dataset = pd.concat([dataset, new_df], ignore_index=True)\n",
        "else:\n",
        "    dataset = new_df\n",
        "\n",
        "# Display the combined DataFrame\n",
        "dataset"
      ],
      "metadata": {
        "trusted": true,
        "execution": {
          "iopub.status.busy": "2024-12-18T06:14:48.719941Z",
          "iopub.execute_input": "2024-12-18T06:14:48.720330Z",
          "iopub.status.idle": "2024-12-18T06:14:48.792645Z",
          "shell.execute_reply.started": "2024-12-18T06:14:48.720295Z",
          "shell.execute_reply": "2024-12-18T06:14:48.791460Z"
        },
        "id": "zAU32rEs5PD6",
        "outputId": "6f8e3897-ab50-4987-fdf7-b150319e9096"
      },
      "outputs": [
        {
          "execution_count": 31,
          "output_type": "execute_result",
          "data": {
            "text/plain": "                                             file_path  label\n0    /kaggle/input/deepfakesss/similar/inpainting/1...      0\n1    /kaggle/input/deepfakesss/similar/inpainting/1...      1\n2    /kaggle/input/deepfakesss/similar/inpainting/2...      0\n3    /kaggle/input/deepfakesss/similar/inpainting/2...      1\n4    /kaggle/input/deepfakesss/similar/inpainting/4...      0\n..                                                 ...    ...\n935  /kaggle/input/dataset/realism/theodor-severin-...      0\n936  /kaggle/input/dataset/realism/ippolito-caffi_r...      0\n937  /kaggle/input/dataset/realism/alexey-venetsian...      0\n938  /kaggle/input/dataset/realism/rosa-bonheur_thr...      0\n939  /kaggle/input/dataset/realism/honore-daumier_l...      0\n\n[940 rows x 2 columns]",
            "text/html": "<div>\n<style scoped>\n    .dataframe tbody tr th:only-of-type {\n        vertical-align: middle;\n    }\n\n    .dataframe tbody tr th {\n        vertical-align: top;\n    }\n\n    .dataframe thead th {\n        text-align: right;\n    }\n</style>\n<table border=\"1\" class=\"dataframe\">\n  <thead>\n    <tr style=\"text-align: right;\">\n      <th></th>\n      <th>file_path</th>\n      <th>label</th>\n    </tr>\n  </thead>\n  <tbody>\n    <tr>\n      <th>0</th>\n      <td>/kaggle/input/deepfakesss/similar/inpainting/1...</td>\n      <td>0</td>\n    </tr>\n    <tr>\n      <th>1</th>\n      <td>/kaggle/input/deepfakesss/similar/inpainting/1...</td>\n      <td>1</td>\n    </tr>\n    <tr>\n      <th>2</th>\n      <td>/kaggle/input/deepfakesss/similar/inpainting/2...</td>\n      <td>0</td>\n    </tr>\n    <tr>\n      <th>3</th>\n      <td>/kaggle/input/deepfakesss/similar/inpainting/2...</td>\n      <td>1</td>\n    </tr>\n    <tr>\n      <th>4</th>\n      <td>/kaggle/input/deepfakesss/similar/inpainting/4...</td>\n      <td>0</td>\n    </tr>\n    <tr>\n      <th>...</th>\n      <td>...</td>\n      <td>...</td>\n    </tr>\n    <tr>\n      <th>935</th>\n      <td>/kaggle/input/dataset/realism/theodor-severin-...</td>\n      <td>0</td>\n    </tr>\n    <tr>\n      <th>936</th>\n      <td>/kaggle/input/dataset/realism/ippolito-caffi_r...</td>\n      <td>0</td>\n    </tr>\n    <tr>\n      <th>937</th>\n      <td>/kaggle/input/dataset/realism/alexey-venetsian...</td>\n      <td>0</td>\n    </tr>\n    <tr>\n      <th>938</th>\n      <td>/kaggle/input/dataset/realism/rosa-bonheur_thr...</td>\n      <td>0</td>\n    </tr>\n    <tr>\n      <th>939</th>\n      <td>/kaggle/input/dataset/realism/honore-daumier_l...</td>\n      <td>0</td>\n    </tr>\n  </tbody>\n</table>\n<p>940 rows × 2 columns</p>\n</div>"
          },
          "metadata": {}
        }
      ],
      "execution_count": null
    },
    {
      "cell_type": "markdown",
      "source": [
        "# Exploratory Data Analysis"
      ],
      "metadata": {
        "id": "FFNhKfRQ5PD7"
      }
    },
    {
      "cell_type": "code",
      "source": [
        "import matplotlib.pyplot as plt\n",
        "import seaborn as sns\n",
        "\n",
        "# Count the number of samples per label\n",
        "label_counts = dataset['label'].value_counts().reset_index()\n",
        "label_counts.columns = ['label', 'count']\n",
        "\n",
        "# Map the labels (0 to 'Human', 1 to 'AI Generated')\n",
        "label_counts['label'] = label_counts['label'].map({0: 'Human', 1: 'AI Generated'})\n",
        "\n",
        "# Plotting\n",
        "plt.figure(figsize=(25, 10))\n",
        "ax = sns.barplot(data=label_counts, x='label', y='count', edgecolor='black', palette='pastel')\n",
        "\n",
        "# Adding labels to the bars\n",
        "for i in ax.containers:\n",
        "    ax.bar_label(i)\n",
        "\n",
        "# Set plot title and labels\n",
        "plt.title('Number of Samples per Label (Human vs AI Generated)', fontsize=45, fontweight='bold')\n",
        "plt.xlabel('Labels', fontsize=15)\n",
        "plt.ylabel('Count', fontsize=15)\n",
        "plt.xticks(ha='right')\n",
        "plt.show()\n"
      ],
      "metadata": {
        "trusted": true,
        "execution": {
          "iopub.status.busy": "2024-12-18T06:14:48.794057Z",
          "iopub.execute_input": "2024-12-18T06:14:48.794410Z",
          "iopub.status.idle": "2024-12-18T06:14:49.223709Z",
          "shell.execute_reply.started": "2024-12-18T06:14:48.794376Z",
          "shell.execute_reply": "2024-12-18T06:14:49.222448Z"
        },
        "id": "s7fMJ0Uv5PD7",
        "outputId": "490714c1-d311-4cbc-aaed-70bde383d0a0"
      },
      "outputs": [
        {
          "output_type": "display_data",
          "data": {
            "text/plain": "<Figure size 2500x1000 with 1 Axes>",
            "image/png": "[encoded data removed]"
          },
          "metadata": {}
        }
      ],
      "execution_count": null
    },
    {
      "cell_type": "markdown",
      "source": [
        "# Data Preprocessing"
      ],
      "metadata": {
        "id": "O4GNgHGt5PD7"
      }
    },
    {
      "cell_type": "markdown",
      "source": [
        "## Resize Image"
      ],
      "metadata": {
        "id": "yk2BCVWJ5PD7"
      }
    },
    {
      "cell_type": "code",
      "source": [
        "def preprocess_image(image_path, size=(224, 224)):\n",
        "    # Load the image from the file path\n",
        "    image = cv2.imread(image_path)\n",
        "\n",
        "    # Check if the image was loaded successfully\n",
        "    if image is None:\n",
        "        raise ValueError(f\"Image not found or unable to load: {image_path}\")\n",
        "\n",
        "    # Resize the image to the given size\n",
        "    image_resized = cv2.resize(image, size)\n",
        "\n",
        "    return image_resized"
      ],
      "metadata": {
        "trusted": true,
        "execution": {
          "iopub.status.busy": "2024-12-18T06:14:49.225649Z",
          "iopub.execute_input": "2024-12-18T06:14:49.226024Z",
          "iopub.status.idle": "2024-12-18T06:14:49.232185Z",
          "shell.execute_reply.started": "2024-12-18T06:14:49.225987Z",
          "shell.execute_reply": "2024-12-18T06:14:49.230933Z"
        },
        "id": "lIm31bdJ5PD7"
      },
      "outputs": [],
      "execution_count": null
    },
    {
      "cell_type": "markdown",
      "source": [
        "## Feature Detector"
      ],
      "metadata": {
        "id": "bfMHPdH95PD7"
      }
    },
    {
      "cell_type": "code",
      "source": [
        "!pip install --upgrade scikit-image"
      ],
      "metadata": {
        "trusted": true,
        "execution": {
          "iopub.status.busy": "2024-12-18T06:14:49.233684Z",
          "iopub.execute_input": "2024-12-18T06:14:49.234007Z",
          "iopub.status.idle": "2024-12-18T06:15:00.213007Z",
          "shell.execute_reply.started": "2024-12-18T06:14:49.233975Z",
          "shell.execute_reply": "2024-12-18T06:15:00.211397Z"
        },
        "id": "GAkdcGKe5PD8",
        "outputId": "77d1f856-6cbc-42ff-8189-6784f09f60f7"
      },
      "outputs": [
        {
          "name": "stdout",
          "text": "Requirement already satisfied: scikit-image in /opt/conda/lib/python3.10/site-packages (0.25.0)\nRequirement already satisfied: numpy>=1.24 in /opt/conda/lib/python3.10/site-packages (from scikit-image) (1.26.4)\nRequirement already satisfied: scipy>=1.11.2 in /opt/conda/lib/python3.10/site-packages (from scikit-image) (1.14.1)\nRequirement already satisfied: networkx>=3.0 in /opt/conda/lib/python3.10/site-packages (from scikit-image) (3.3)\nRequirement already satisfied: pillow>=10.1 in /opt/conda/lib/python3.10/site-packages (from scikit-image) (10.3.0)\nRequirement already satisfied: imageio!=2.35.0,>=2.33 in /opt/conda/lib/python3.10/site-packages (from scikit-image) (2.34.1)\nRequirement already satisfied: tifffile>=2022.8.12 in /opt/conda/lib/python3.10/site-packages (from scikit-image) (2024.5.22)\nRequirement already satisfied: packaging>=21 in /opt/conda/lib/python3.10/site-packages (from scikit-image) (21.3)\nRequirement already satisfied: lazy-loader>=0.4 in /opt/conda/lib/python3.10/site-packages (from scikit-image) (0.4)\nRequirement already satisfied: pyparsing!=3.0.5,>=2.0.2 in /opt/conda/lib/python3.10/site-packages (from packaging>=21->scikit-image) (3.1.2)\n",
          "output_type": "stream"
        }
      ],
      "execution_count": null
    },
    {
      "cell_type": "code",
      "source": [
        "import cv2\n",
        "import numpy as np\n",
        "from skimage import feature\n",
        "from scipy.fftpack import dct\n",
        "\n",
        "# Helper function for DCT-based Color Layout\n",
        "def compute_dct(block):\n",
        "    return dct(dct(block.T, norm='ortho').T, norm='ortho')\n",
        "\n",
        "# Color Layout Descriptor (CLD) using DCT\n",
        "def extract_color_layout(image):\n",
        "    # Resize to 8x8 for compact representation\n",
        "    image_resized = cv2.resize(image, (8, 8))\n",
        "    # Convert to YCrCb color space\n",
        "    image_ycc = cv2.cvtColor(image_resized, cv2.COLOR_BGR2YCrCb)\n",
        "\n",
        "    # Split the Y, Cr, and Cb channels\n",
        "    y, cr, cb = cv2.split(image_ycc)\n",
        "\n",
        "    # Compute DCT coefficients on each channel\n",
        "    y_dct = compute_dct(y)\n",
        "    cr_dct = compute_dct(cr)\n",
        "    cb_dct = compute_dct(cb)\n",
        "\n",
        "    features = np.hstack([y_dct[:6, :6].flatten(), cr_dct[:6, :6].flatten(), cb_dct[:6, :6].flatten()])\n",
        "    return features\n",
        "\n",
        "# Color Structure Descriptor (CSD) using structured histogram\n",
        "def extract_color_structure(image):\n",
        "    # Convert to HSV color space for color information\n",
        "    image_hsv = cv2.cvtColor(image, cv2.COLOR_BGR2HSV)\n",
        "\n",
        "    # Use a structuring element (e.g., 3x3) to capture spatial layout of colors\n",
        "    struct_elem = cv2.getStructuringElement(cv2.MORPH_RECT, (3, 3))\n",
        "    image_morphed = cv2.morphologyEx(image_hsv, cv2.MORPH_CLOSE, struct_elem)\n",
        "\n",
        "    # Calculate histogram with structure in mind\n",
        "    hist = cv2.calcHist([image_morphed], [0, 1], None, [8, 8], [0, 180, 0, 256])\n",
        "    cv2.normalize(hist, hist)\n",
        "\n",
        "    return hist.flatten()\n",
        "\n",
        "# Edge Histogram Descriptor (EHD) using directional edges\n",
        "def extract_edge_histogram(image):\n",
        "    # Convert to grayscale\n",
        "    gray = cv2.cvtColor(image, cv2.COLOR_BGR2GRAY)\n",
        "\n",
        "    # Detect edges using Canny\n",
        "    edges = cv2.Canny(gray, 100, 200)\n",
        "\n",
        "    # Compute directionality of edges\n",
        "    angles = feature.hog(edges, orientations=5, pixels_per_cell=(16, 16), cells_per_block=(1, 1), visualize=False)\n",
        "\n",
        "    return angles\n",
        "\n",
        "# Homogeneous Texture Descriptor (HTD) using LBP and GLCM\n",
        "def extract_homogeneous_texture(image):\n",
        "    # Convert to grayscale\n",
        "    gray = cv2.cvtColor(image, cv2.COLOR_BGR2GRAY)\n",
        "\n",
        "    # Compute Local Binary Patterns (LBP) as texture measure\n",
        "    lbp = feature.local_binary_pattern(gray, P=8, R=1, method='uniform')\n",
        "\n",
        "    # Histogram of LBP values (normalized)\n",
        "    (hist_lbp, _) = np.histogram(lbp.ravel(), bins=np.arange(0, 11), range=(0, 10))\n",
        "    hist_lbp = hist_lbp.astype(\"float\")\n",
        "    hist_lbp /= hist_lbp.sum()\n",
        "\n",
        "    # Use GLCM (Gray-Level Co-occurrence Matrix) for second-order texture\n",
        "    glcm = feature.graycomatrix(gray, [1], [0, np.pi/4, np.pi/2, 3*np.pi/4], symmetric=True, normed=True)\n",
        "    contrast = feature.graycoprops(glcm, 'contrast').flatten()\n",
        "    homogeneity = feature.graycoprops(glcm, 'homogeneity').flatten()\n",
        "\n",
        "    # Combine LBP and GLCM features\n",
        "    texture_features = np.hstack([hist_lbp, contrast, homogeneity])\n",
        "\n",
        "    return texture_features\n",
        "\n",
        "# Main function to extract MPEG-7-like features\n",
        "def extract_mpeg7_features(image_path):\n",
        "    image = cv2.imread(image_path)\n",
        "\n",
        "    color_layout = extract_color_layout(image)\n",
        "    color_structure = extract_color_structure(image)\n",
        "    edge_histogram = extract_edge_histogram(image)\n",
        "    homogeneous_texture = extract_homogeneous_texture(image)\n",
        "\n",
        "    # Combine all features into a single feature vector\n",
        "    features = np.hstack([color_layout, color_structure, edge_histogram, homogeneous_texture])\n",
        "\n",
        "    return features"
      ],
      "metadata": {
        "trusted": true,
        "execution": {
          "iopub.status.busy": "2024-12-18T06:15:00.218671Z",
          "iopub.execute_input": "2024-12-18T06:15:00.219187Z",
          "iopub.status.idle": "2024-12-18T06:15:00.239133Z",
          "shell.execute_reply.started": "2024-12-18T06:15:00.219145Z",
          "shell.execute_reply": "2024-12-18T06:15:00.237473Z"
        },
        "id": "medSyf-95PD8"
      },
      "outputs": [],
      "execution_count": null
    },
    {
      "cell_type": "markdown",
      "source": [
        "## Execution"
      ],
      "metadata": {
        "id": "JssFbQyC5PD8"
      }
    },
    {
      "cell_type": "markdown",
      "source": [
        "#### Resize"
      ],
      "metadata": {
        "id": "fAsDkMRN5PD8"
      }
    },
    {
      "cell_type": "code",
      "source": [
        "dataset['preprocessed_image'] = dataset['file_path'].apply(preprocess_image)"
      ],
      "metadata": {
        "trusted": true,
        "execution": {
          "iopub.status.busy": "2024-12-18T06:15:00.240470Z",
          "iopub.execute_input": "2024-12-18T06:15:00.240873Z",
          "iopub.status.idle": "2024-12-18T06:15:33.778425Z",
          "shell.execute_reply.started": "2024-12-18T06:15:00.240814Z",
          "shell.execute_reply": "2024-12-18T06:15:33.777088Z"
        },
        "id": "OH5VPdLV5PD8",
        "outputId": "108bc93d-5b84-4496-e76a-8e353b4ffd15"
      },
      "outputs": [
        {
          "name": "stderr",
          "text": "libpng warning: iCCP: known incorrect sRGB profile\nlibpng warning: iCCP: known incorrect sRGB profile\nlibpng warning: iCCP: known incorrect sRGB profile\n",
          "output_type": "stream"
        }
      ],
      "execution_count": null
    },
    {
      "cell_type": "markdown",
      "source": [
        "#### Extract Features"
      ],
      "metadata": {
        "id": "LWq6dLPF5PD8"
      }
    },
    {
      "cell_type": "code",
      "source": [
        "dataset['features'] = dataset['file_path'].apply(extract_mpeg7_features)"
      ],
      "metadata": {
        "trusted": true,
        "execution": {
          "iopub.status.busy": "2024-12-18T06:15:33.779961Z",
          "iopub.execute_input": "2024-12-18T06:15:33.780520Z",
          "iopub.status.idle": "2024-12-18T06:21:15.245966Z",
          "shell.execute_reply.started": "2024-12-18T06:15:33.780465Z",
          "shell.execute_reply": "2024-12-18T06:21:15.243914Z"
        },
        "id": "hINZFQu_5PD8",
        "outputId": "d0bde294-d600-478a-cbfc-d71a7724149a"
      },
      "outputs": [
        {
          "name": "stderr",
          "text": "libpng warning: iCCP: known incorrect sRGB profile\nlibpng warning: iCCP: known incorrect sRGB profile\nlibpng warning: iCCP: known incorrect sRGB profile\n",
          "output_type": "stream"
        }
      ],
      "execution_count": null
    },
    {
      "cell_type": "code",
      "source": [
        "def pad_features(features, max_length):\n",
        "    padded = np.zeros(max_length)\n",
        "    padded[:len(features)] = features\n",
        "    return padded\n",
        "\n",
        "# Find the maximum feature vector length\n",
        "max_length = max([len(f) for f in dataset['features']])\n",
        "\n",
        "# Pad features to ensure consistent length\n",
        "dataset['padded_features'] = dataset['features'].apply(lambda f: pad_features(f, max_length))"
      ],
      "metadata": {
        "trusted": true,
        "execution": {
          "iopub.status.busy": "2024-12-18T06:21:15.248652Z",
          "iopub.execute_input": "2024-12-18T06:21:15.249293Z",
          "iopub.status.idle": "2024-12-18T06:21:15.550334Z",
          "shell.execute_reply.started": "2024-12-18T06:21:15.249235Z",
          "shell.execute_reply": "2024-12-18T06:21:15.548469Z"
        },
        "id": "ApV4DZCx5PD8"
      },
      "outputs": [],
      "execution_count": null
    },
    {
      "cell_type": "code",
      "source": [
        "# import random\n",
        "\n",
        "# # Function to visualize extracted features from a random image in the dataset\n",
        "# def visualize_random_image_features(dataset):\n",
        "#     # Randomly select a row from the dataset\n",
        "#     random_row = dataset.sample(1).iloc[0]\n",
        "\n",
        "#     # Retrieve the image path and the extracted features\n",
        "#     image_path = random_row['file_path']\n",
        "#     features = random_row['features']\n",
        "\n",
        "#     # Preprocess the image (just for visualization)\n",
        "#     image = preprocess_image(image_path)\n",
        "\n",
        "#     # Visualize pyramid features\n",
        "#     # Assuming the pyramid features were concatenated, split them back into levels\n",
        "#     pyramid_levels = [image.shape[0] * image.shape[1],  # Original size\n",
        "#                       (image.shape[0] // 2) * (image.shape[1] // 2),  # Level 1\n",
        "#                       (image.shape[0] // 4) * (image.shape[1] // 4),  # Level 2\n",
        "#                       (image.shape[0] // 8) * (image.shape[1] // 8)]  # Level 3\n",
        "\n",
        "#     pyramid_feat = np.split(features[:sum(pyramid_levels)], np.cumsum(pyramid_levels)[:-1])\n",
        "#     fig, axes = plt.subplots(1, len(pyramid_feat), figsize=(12, 4))\n",
        "#     for i, p in enumerate(pyramid_feat):\n",
        "#         axes[i].imshow(p.reshape((image.shape[0] // (2 ** i), image.shape[1] // (2 ** i))), cmap='gray')\n",
        "#         axes[i].set_title(f\"Pyramid Level {i}\")\n",
        "#         axes[i].axis('off')\n",
        "#     plt.show()\n",
        "\n",
        "#     # Visualize edge features\n",
        "#     edge_feat = features[sum(pyramid_levels):sum(pyramid_levels) + (image.shape[0] * image.shape[1])]\n",
        "#     plt.figure(figsize=(6, 6))\n",
        "#     plt.imshow(edge_feat.reshape(image.shape[:2]), cmap='gray')\n",
        "#     plt.title(\"Edge Features\")\n",
        "#     plt.axis('off')\n",
        "#     plt.show()\n",
        "\n",
        "#     # Visualize HSV histogram\n",
        "#     hsv_hist = features[sum(pyramid_levels) + (image.shape[0] * image.shape[1]):]\n",
        "#     hsv_hist = hsv_hist.flatten()\n",
        "\n",
        "#     # Plot the histogram for each channel (Hue, Saturation, Value)\n",
        "#     fig, ax = plt.subplots(1, 3, figsize=(12, 4))\n",
        "#     ax[0].plot(hsv_hist[:8], color='r')\n",
        "#     ax[0].set_title('Hue Histogram')\n",
        "#     ax[1].plot(hsv_hist[8:16], color='g')\n",
        "#     ax[1].set_title('Saturation Histogram')\n",
        "#     ax[2].plot(hsv_hist[16:], color='b')\n",
        "#     ax[2].set_title('Value Histogram')\n",
        "#     plt.show()\n",
        "\n",
        "# # Example usage:\n",
        "# # Assuming `dataset` is a DataFrame with 'file_path' and 'features' columns\n",
        "# visualize_random_image_features(dataset)\n"
      ],
      "metadata": {
        "trusted": true,
        "execution": {
          "iopub.status.busy": "2024-12-18T06:21:15.553103Z",
          "iopub.execute_input": "2024-12-18T06:21:15.553566Z",
          "iopub.status.idle": "2024-12-18T06:21:15.561133Z",
          "shell.execute_reply.started": "2024-12-18T06:21:15.553527Z",
          "shell.execute_reply": "2024-12-18T06:21:15.559295Z"
        },
        "id": "S4rcQsY55PD9"
      },
      "outputs": [],
      "execution_count": null
    },
    {
      "cell_type": "code",
      "source": [
        "from sklearn.preprocessing import LabelEncoder\n",
        "from sklearn.model_selection import train_test_split\n",
        "\n",
        "# Assuming your dataset has a 'target' column\n",
        "label_encoder = LabelEncoder()\n",
        "dataset['label_encoded'] = label_encoder.fit_transform(dataset['label'])\n",
        "\n",
        "# Splitting the dataset into features (X) and the target (y)\n",
        "X = np.vstack(dataset['padded_features'].values)\n",
        "y = dataset['label_encoded']\n",
        "\n",
        "# Train-test split\n",
        "X_train, X_test, y_train, y_test = train_test_split(X, y, test_size=0.2, random_state=42)\n"
      ],
      "metadata": {
        "trusted": true,
        "execution": {
          "iopub.status.busy": "2024-12-18T06:21:15.564012Z",
          "iopub.execute_input": "2024-12-18T06:21:15.565926Z",
          "iopub.status.idle": "2024-12-18T06:21:21.409471Z",
          "shell.execute_reply.started": "2024-12-18T06:21:15.565824Z",
          "shell.execute_reply": "2024-12-18T06:21:21.408169Z"
        },
        "id": "hLh00Ovd5PD9"
      },
      "outputs": [],
      "execution_count": null
    },
    {
      "cell_type": "markdown",
      "source": [
        "# XGBoost"
      ],
      "metadata": {
        "id": "mTBPh6jw5PD9"
      }
    },
    {
      "cell_type": "code",
      "source": [
        "import xgboost as xgb\n",
        "from sklearn.metrics import accuracy_score\n",
        "\n",
        "# Initialize the XGBoost classifier\n",
        "xgb_model = xgb.XGBClassifier(objective='multi:softmax', num_class=len(label_encoder.classes_))\n",
        "\n",
        "# Train the model\n",
        "xgb_model.fit(X_train, y_train)\n",
        "\n",
        "# Make predictions\n",
        "y_pred = xgb_model.predict(X_test)\n",
        "\n",
        "# Evaluate the accuracy\n",
        "accuracy = accuracy_score(y_test, y_pred)\n",
        "print(f\"Accuracy: {accuracy * 100:.2f}%\")\n"
      ],
      "metadata": {
        "trusted": true,
        "execution": {
          "iopub.status.busy": "2024-12-18T06:21:21.411281Z",
          "iopub.execute_input": "2024-12-18T06:21:21.411691Z",
          "iopub.status.idle": "2024-12-18T06:31:43.360254Z",
          "shell.execute_reply.started": "2024-12-18T06:21:21.411655Z",
          "shell.execute_reply": "2024-12-18T06:31:43.359117Z"
        },
        "id": "4awuwhhf5PD9",
        "outputId": "8c6cd621-9ed1-4f4c-b2a2-a9ddce1baccf"
      },
      "outputs": [
        {
          "name": "stdout",
          "text": "Accuracy: 87.23%\n",
          "output_type": "stream"
        }
      ],
      "execution_count": null
    },
    {
      "cell_type": "code",
      "source": [
        "from sklearn.metrics import ConfusionMatrixDisplay, confusion_matrix, accuracy_score\n",
        "import matplotlib.pyplot as plt\n",
        "\n",
        "# Assuming y_test and y_pred are already defined\n",
        "cm = confusion_matrix(y_test, y_pred)\n",
        "plt.figure(figsize=(16, 6))\n",
        "disp = ConfusionMatrixDisplay(confusion_matrix=cm, display_labels=label_encoder.classes_)\n",
        "disp.plot(cmap='Blues')\n",
        "\n",
        "# Rotate x-axis labels\n",
        "plt.xticks(rotation=90)\n",
        "\n",
        "plt.title('Confusion Matrix')\n",
        "plt.show()\n",
        "\n",
        "# Optional: Print accuracy\n",
        "accuracy = accuracy_score(y_test, y_pred)\n",
        "print(f\"Accuracy: {accuracy * 100:.2f}%\")\n"
      ],
      "metadata": {
        "trusted": true,
        "execution": {
          "iopub.status.busy": "2024-12-18T06:31:43.361780Z",
          "iopub.execute_input": "2024-12-18T06:31:43.362168Z",
          "iopub.status.idle": "2024-12-18T06:31:43.660762Z",
          "shell.execute_reply.started": "2024-12-18T06:31:43.362133Z",
          "shell.execute_reply": "2024-12-18T06:31:43.659642Z"
        },
        "id": "o4Tu09M05PD9",
        "outputId": "0c0a6bcc-81fc-40b3-f2ab-b0d396e6e101"
      },
      "outputs": [
        {
          "output_type": "display_data",
          "data": {
            "text/plain": "<Figure size 1600x600 with 0 Axes>"
          },
          "metadata": {}
        },
        {
          "output_type": "display_data",
          "data": {
            "text/plain": "<Figure size 640x480 with 2 Axes>",
            "image/png": "[encoded data removed]"
          },
          "metadata": {}
        },
        {
          "name": "stdout",
          "text": "Accuracy: 87.23%\n",
          "output_type": "stream"
        }
      ],
      "execution_count": null
    },
    {
      "cell_type": "code",
      "source": [
        "import pickle\n",
        "# Save the model using pickle\n",
        "with open(\"xgb_model.pkl\", \"wb\") as file:\n",
        "    pickle.dump(xgb_model, file)\n",
        "print(\"Model saved with pickle as 'xgb_model.pkl'\")\n",
        "\n",
        "# Save the model in JSON format\n",
        "xgb_model.save_model(\"xgb_model.json\")\n",
        "print(\"Model saved in JSON format as 'xgb_model.json'\")"
      ],
      "metadata": {
        "trusted": true,
        "execution": {
          "iopub.status.busy": "2024-12-18T06:31:43.662510Z",
          "iopub.execute_input": "2024-12-18T06:31:43.663017Z",
          "iopub.status.idle": "2024-12-18T06:31:43.682637Z",
          "shell.execute_reply.started": "2024-12-18T06:31:43.662964Z",
          "shell.execute_reply": "2024-12-18T06:31:43.681461Z"
        },
        "id": "QcLYH2xq5PD9",
        "outputId": "747805e5-d9bb-48eb-edd0-7cd15fd79377"
      },
      "outputs": [
        {
          "name": "stdout",
          "text": "Model saved with pickle as 'xgb_model.pkl'\nModel saved in JSON format as 'xgb_model.json'\n",
          "output_type": "stream"
        }
      ],
      "execution_count": null
    },
    {
      "cell_type": "markdown",
      "source": [
        "# AdaBoost"
      ],
      "metadata": {
        "id": "lWTZ0SQm5PD9"
      }
    },
    {
      "cell_type": "code",
      "source": [
        "from sklearn.tree import DecisionTreeClassifier\n",
        "from sklearn.ensemble import AdaBoostClassifier\n",
        "\n",
        "# Initialize the J48 equivalent decision tree\n",
        "j48_tree = DecisionTreeClassifier(criterion='entropy', max_depth=None, min_samples_split=2, min_samples_leaf=1)\n",
        "\n",
        "# Create the AdaBoost classifier using the J48 decision tree\n",
        "adaboost_model = AdaBoostClassifier(base_estimator=j48_tree, n_estimators=100, random_state=42)\n",
        "adaboost_model.fit(X_train, y_train)\n",
        "y_pred = adaboost_model.predict(X_test)\n",
        "# Calculate accuracy\n",
        "accuracy = accuracy_score(y_test, y_pred)\n",
        "print(f\"Accuracy: {accuracy * 100:.2f}%\")\n",
        "\n",
        "# Generate and display the confusion matrix\n",
        "cm = confusion_matrix(y_test, y_pred)\n",
        "plt.figure(figsize=(8, 6))\n",
        "disp = ConfusionMatrixDisplay(confusion_matrix=cm, display_labels=np.unique(y))\n",
        "disp.plot(cmap='Blues')\n",
        "plt.title('Confusion Matrix')\n",
        "plt.show()\n"
      ],
      "metadata": {
        "trusted": true,
        "execution": {
          "iopub.status.busy": "2024-12-18T06:42:05.019651Z",
          "iopub.execute_input": "2024-12-18T06:42:05.020605Z",
          "iopub.status.idle": "2024-12-18T06:42:45.425959Z",
          "shell.execute_reply.started": "2024-12-18T06:42:05.020554Z",
          "shell.execute_reply": "2024-12-18T06:42:45.424628Z"
        },
        "id": "qO0hgkwd5PD9",
        "outputId": "4738cfcc-847b-4964-bf35-4d0e4e431e37"
      },
      "outputs": [
        {
          "name": "stderr",
          "text": "/opt/conda/lib/python3.10/site-packages/sklearn/ensemble/_base.py:166: FutureWarning: `base_estimator` was renamed to `estimator` in version 1.2 and will be removed in 1.4.\n  warnings.warn(\n",
          "output_type": "stream"
        },
        {
          "name": "stdout",
          "text": "Accuracy: 83.51%\n",
          "output_type": "stream"
        },
        {
          "output_type": "display_data",
          "data": {
            "text/plain": "<Figure size 800x600 with 0 Axes>"
          },
          "metadata": {}
        },
        {
          "output_type": "display_data",
          "data": {
            "text/plain": "<Figure size 640x480 with 2 Axes>",
            "image/png": "[encoded data removed]"
          },
          "metadata": {}
        }
      ],
      "execution_count": null
    },
    {
      "cell_type": "code",
      "source": [
        "import pickle\n",
        "from joblib import dump, load\n",
        "\n",
        "# Save the AdaBoost model using pickle\n",
        "pickle_file = \"adaboost_model.pkl\"\n",
        "with open(pickle_file, \"wb\") as file:\n",
        "    pickle.dump(adaboost_model, file)\n",
        "print(f\"Model saved with pickle as '{pickle_file}'\")\n",
        "\n",
        "# Save the AdaBoost model using joblib\n",
        "joblib_file = \"adaboost_model.joblib\"\n",
        "dump(adaboost_model, joblib_file)\n",
        "print(f\"Model saved with joblib as '{joblib_file}'\")"
      ],
      "metadata": {
        "trusted": true,
        "execution": {
          "iopub.status.busy": "2024-12-18T06:42:45.428443Z",
          "iopub.execute_input": "2024-12-18T06:42:45.428809Z",
          "iopub.status.idle": "2024-12-18T06:42:45.441644Z",
          "shell.execute_reply.started": "2024-12-18T06:42:45.428773Z",
          "shell.execute_reply": "2024-12-18T06:42:45.440610Z"
        },
        "id": "l-R8xfpD5PD-",
        "outputId": "706823aa-bbeb-4f04-be33-ba002bc18f93"
      },
      "outputs": [
        {
          "name": "stdout",
          "text": "Model saved with pickle as 'adaboost_model.pkl'\nModel saved with joblib as 'adaboost_model.joblib'\n",
          "output_type": "stream"
        }
      ],
      "execution_count": null
    },
    {
      "cell_type": "markdown",
      "source": [
        "# Random Forest"
      ],
      "metadata": {
        "id": "kDTeIhOV5PD-"
      }
    },
    {
      "cell_type": "code",
      "source": [
        "from sklearn.ensemble import RandomForestClassifier\n",
        "from sklearn.metrics import accuracy_score, confusion_matrix, ConfusionMatrixDisplay\n",
        "import matplotlib.pyplot as plt\n",
        "import numpy as np\n",
        "\n",
        "# Initialize the RandomForest model\n",
        "random_forest_model = RandomForestClassifier(n_estimators=100, random_state=42, criterion='entropy')\n",
        "\n",
        "# Train the RandomForest model\n",
        "random_forest_model.fit(X_train, y_train)\n",
        "\n",
        "# Make predictions on the test set\n",
        "y_pred = random_forest_model.predict(X_test)\n",
        "\n",
        "# Calculate accuracy\n",
        "accuracy = accuracy_score(y_test, y_pred)\n",
        "print(f\"Accuracy: {accuracy * 100:.2f}%\")\n",
        "\n",
        "# Generate and display the confusion matrix\n",
        "cm = confusion_matrix(y_test, y_pred)\n",
        "plt.figure(figsize=(8, 6))\n",
        "disp = ConfusionMatrixDisplay(confusion_matrix=cm, display_labels=np.unique(y))\n",
        "disp.plot(cmap='Blues')\n",
        "plt.title('Confusion Matrix')\n",
        "plt.show()\n"
      ],
      "metadata": {
        "trusted": true,
        "execution": {
          "iopub.status.busy": "2024-12-18T06:42:45.442968Z",
          "iopub.execute_input": "2024-12-18T06:42:45.443317Z",
          "iopub.status.idle": "2024-12-18T06:42:57.018590Z",
          "shell.execute_reply.started": "2024-12-18T06:42:45.443270Z",
          "shell.execute_reply": "2024-12-18T06:42:57.017306Z"
        },
        "id": "9Q1wB92J5PD-",
        "outputId": "2cc69011-e223-4809-d59d-ee4b89ac85a5"
      },
      "outputs": [
        {
          "name": "stdout",
          "text": "Accuracy: 74.47%\n",
          "output_type": "stream"
        },
        {
          "output_type": "display_data",
          "data": {
            "text/plain": "<Figure size 800x600 with 0 Axes>"
          },
          "metadata": {}
        },
        {
          "output_type": "display_data",
          "data": {
            "text/plain": "<Figure size 640x480 with 2 Axes>",
            "image/png": "[encoded data removed]"
          },
          "metadata": {}
        }
      ],
      "execution_count": null
    },
    {
      "cell_type": "code",
      "source": [
        "# Save the RandomForest model using pickle\n",
        "pickle_file = \"random_forest_model.pkl\"\n",
        "with open(pickle_file, \"wb\") as file:\n",
        "    pickle.dump(random_forest_model, file)\n",
        "print(f\"Model saved with pickle as '{pickle_file}'\")\n",
        "\n",
        "# Save the RandomForest model using joblib\n",
        "joblib_file = \"random_forest_model.joblib\"\n",
        "dump(random_forest_model, joblib_file)\n",
        "print(f\"Model saved with joblib as '{joblib_file}'\")"
      ],
      "metadata": {
        "trusted": true,
        "execution": {
          "iopub.status.busy": "2024-12-18T06:42:57.020268Z",
          "iopub.execute_input": "2024-12-18T06:42:57.020727Z",
          "iopub.status.idle": "2024-12-18T06:42:57.100587Z",
          "shell.execute_reply.started": "2024-12-18T06:42:57.020678Z",
          "shell.execute_reply": "2024-12-18T06:42:57.099158Z"
        },
        "id": "v6VqTOUL5PD-",
        "outputId": "24c73580-a483-439b-af24-d6d8f0be0409"
      },
      "outputs": [
        {
          "name": "stdout",
          "text": "Model saved with pickle as 'random_forest_model.pkl'\nModel saved with joblib as 'random_forest_model.joblib'\n",
          "output_type": "stream"
        }
      ],
      "execution_count": null
    }
  ]
}